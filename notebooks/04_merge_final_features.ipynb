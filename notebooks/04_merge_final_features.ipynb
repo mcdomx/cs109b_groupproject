{
 "cells": [
  {
   "cell_type": "markdown",
   "metadata": {
    "nteract": {
     "transient": {
      "deleting": false
     }
    }
   },
   "source": [
    "# Notebook 04: Merge Final Features for Modeling\n",
    "\n",
    "## Instructions:\n",
    "\n",
    "### Inputs:\n",
    "\n",
    "### Outputs:\n"
   ]
  },
  {
   "cell_type": "markdown",
   "metadata": {},
   "source": [
    "---"
   ]
  },
  {
   "cell_type": "markdown",
   "metadata": {},
   "source": [
    "<a name='imports'></a>\n",
    "## Imports\n",
    "Imports for function used in this notebook.\n",
    "\n",
    "<a href=#index>index</a>"
   ]
  },
  {
   "cell_type": "markdown",
   "metadata": {},
   "source": [
    "### Data Wrangling"
   ]
  },
  {
   "cell_type": "code",
   "execution_count": 2,
   "metadata": {},
   "outputs": [],
   "source": [
    "import pandas as pd\n",
    "import numpy as np"
   ]
  },
  {
   "cell_type": "markdown",
   "metadata": {},
   "source": [
    "### Utils"
   ]
  },
  {
   "cell_type": "code",
   "execution_count": 3,
   "metadata": {},
   "outputs": [],
   "source": [
    "import os\n",
    "from pickle import dump, load\n",
    "from tqdm.auto import tqdm\n",
    "import glob\n",
    "from functools import reduce"
   ]
  },
  {
   "cell_type": "markdown",
   "metadata": {},
   "source": [
    "---"
   ]
  },
  {
   "cell_type": "markdown",
   "metadata": {},
   "source": [
    "<a name='read'></a>\n",
    "## Data Loading\n",
    "All the data loaded from disk and used in this notebook\n",
    "\n",
    "<a href=#index>index</a>"
   ]
  },
  {
   "cell_type": "code",
   "execution_count": 4,
   "metadata": {},
   "outputs": [],
   "source": [
    "files_needed = set(\n",
    "    [\n",
    "        'NYC_capital_projects_3yr_test',\n",
    "        'NYC_capital_projects_3yr_train',\n",
    "        'ae_pca_encoded_embed_test',\n",
    "        'ae_pca_encoded_embed_train',\n",
    "        'UMAP_embeddings_NYC_capital_projects_3yr_test',\n",
    "        'UMAP_embeddings_NYC_capital_projects_3yr_train',\n",
    "        'kmeans3_attribute_labels_test',\n",
    "        'kmeans3_attribute_labels_train',\n",
    "    ]\n",
    ")\n",
    "\n",
    "files_needed_paths = [f\"../data/interim/{file}.csv\" for file in files_needed]\n",
    "\n",
    "savepath_train = \"../data/processed/NYC_capital_projects_3yr_final_train.csv\"\n",
    "savepath_test = \"../data/processed/NYC_capital_projects_3yr_final_test.csv\""
   ]
  },
  {
   "cell_type": "code",
   "execution_count": 5,
   "metadata": {},
   "outputs": [
    {
     "name": "stdout",
     "output_type": "stream",
     "text": [
      "OK - all 'files_needed_paths' point to existing files!\n"
     ]
    }
   ],
   "source": [
    "# check to ensure target files exist to prevent runtime errors\n",
    "path_errors = []\n",
    "for filepath in files_needed_paths: \n",
    "    if (not os.path.isfile(filepath)) and (not os.path.isdir(filepath)):\n",
    "        path_errors.append(filepath)\n",
    "        \n",
    "if len(path_errors)==0:\n",
    "    print(\"OK - all 'files_needed_paths' point to existing files!\")\n",
    "\n",
    "else:\n",
    "    raise ValueError(\n",
    "        \"The following target paths do not exist...\\n\\n\\t{}\\n\"\\\n",
    "        \"\".format(path_errors)\n",
    "    )"
   ]
  },
  {
   "cell_type": "code",
   "execution_count": 6,
   "metadata": {},
   "outputs": [
    {
     "name": "stdout",
     "output_type": "stream",
     "text": [
      "Dataframes added to data dictionary:\n",
      "\n",
      "\tNYC_capital_projects_3yr_test\n",
      "\tNYC_capital_projects_3yr_train\n",
      "\tUMAP_embeddings_NYC_capital_projects_3yr_test\n",
      "\tUMAP_embeddings_NYC_capital_projects_3yr_train\n",
      "\tae_pca_encoded_embed_test\n",
      "\tae_pca_encoded_embed_train\n",
      "\tkmeans3_attribute_labels_test\n",
      "\tkmeans3_attribute_labels_train\n"
     ]
    }
   ],
   "source": [
    "data_dict = {\"train\":{}, \"test\":{}}\n",
    "\n",
    "print('Dataframes added to data dictionary:\\n')\n",
    "\n",
    "for file in sorted(files_needed_paths):\n",
    "    file_name, extension = file.split(\"/\")[-1].split(\".\")\n",
    "    if file_name.startswith(\"NYC\"):\n",
    "        date_cols = [\n",
    "    'Design_Start',\n",
    "    'Final_Change_Date',\n",
    "    'Schedule_Start',\n",
    "    'Schedule_End',\n",
    "]\n",
    "        drop_col = \"Unnamed: 0\"\n",
    "    \n",
    "    #umap \n",
    "    else:\n",
    "        date_cols = []\n",
    "        drop_col = []\n",
    "    \n",
    "    df = pd.read_csv(file, parse_dates=date_cols).drop(columns=drop_col)\n",
    "    \n",
    "    if file_name.split(\"_\")[-1] == \"train\":\n",
    "        data_dict[\"train\"][file_name] = df\n",
    "    elif file_name.split(\"_\")[-1] == \"test\":\n",
    "        data_dict[\"test\"][file_name] = df\n",
    "    else:\n",
    "        data_dict[file_name] = df\n",
    "    \n",
    "    print(f'\\t{file_name}')"
   ]
  },
  {
   "cell_type": "code",
   "execution_count": 7,
   "metadata": {},
   "outputs": [
    {
     "data": {
      "text/plain": [
       "dict_keys(['NYC_capital_projects_3yr_train', 'UMAP_embeddings_NYC_capital_projects_3yr_train', 'ae_pca_encoded_embed_train', 'kmeans3_attribute_labels_train'])"
      ]
     },
     "execution_count": 7,
     "metadata": {},
     "output_type": "execute_result"
    }
   ],
   "source": [
    "data_dict[\"train\"].keys()"
   ]
  },
  {
   "cell_type": "code",
   "execution_count": 8,
   "metadata": {},
   "outputs": [
    {
     "data": {
      "text/plain": [
       "dict_keys(['NYC_capital_projects_3yr_test', 'UMAP_embeddings_NYC_capital_projects_3yr_test', 'ae_pca_encoded_embed_test', 'kmeans3_attribute_labels_test'])"
      ]
     },
     "execution_count": 8,
     "metadata": {},
     "output_type": "execute_result"
    }
   ],
   "source": [
    "data_dict[\"test\"].keys()"
   ]
  },
  {
   "cell_type": "code",
   "execution_count": 9,
   "metadata": {},
   "outputs": [
    {
     "data": {
      "text/plain": [
       "Index(['attribute_clustering_label'], dtype='object')"
      ]
     },
     "execution_count": 9,
     "metadata": {},
     "output_type": "execute_result"
    }
   ],
   "source": [
    "data_dict[\"train\"]['UMAP_embeddings_NYC_capital_projects_3yr_train'].columns[\n",
    "    data_dict[\"train\"]['UMAP_embeddings_NYC_capital_projects_3yr_train'].columns.str.contains(\"label\")\n",
    "]"
   ]
  },
  {
   "cell_type": "code",
   "execution_count": 10,
   "metadata": {},
   "outputs": [],
   "source": [
    "# filters so only keep the 2D features\n",
    "umap_df_train = data_dict[\"train\"]['UMAP_embeddings_NYC_capital_projects_3yr_train']\n",
    "umap_df_train['attribute_clustering_label'] = umap_df_train['attribute_clustering_label'].astype(\"str\") \n",
    "data_dict[\"train\"]['UMAP_embeddings_NYC_capital_projects_3yr_train'] = umap_df_train[\n",
    "    [\"PID\"] + list(\n",
    "        umap_df_train.columns[\n",
    "            umap_df_train.columns.str.startswith(\"umap_attributes_2D\") | \n",
    "            umap_df_train.columns.str.startswith(\"umap_descr_2D\") \n",
    "        ]\n",
    "    ) + ['attribute_clustering_label']\n",
    "]\n",
    "\n",
    "# filters so only keep the 2D features\n",
    "umap_df_test = data_dict[\"test\"]['UMAP_embeddings_NYC_capital_projects_3yr_test']\n",
    "umap_df_test['attribute_clustering_label'] = umap_df_test['attribute_clustering_label'].astype(\"str\") \n",
    "data_dict[\"test\"]['UMAP_embeddings_NYC_capital_projects_3yr_test'] = umap_df_test[\n",
    "    [\"PID\"]  + list(\n",
    "        umap_df_test.columns[\n",
    "            umap_df_test.columns.str.startswith(\"umap_attributes_2D\") |\n",
    "            umap_df_test.columns.str.startswith(\"umap_descr_2D\")\n",
    "        ]\n",
    "    ) + ['attribute_clustering_label']\n",
    "]\n"
   ]
  },
  {
   "cell_type": "code",
   "execution_count": 11,
   "metadata": {},
   "outputs": [],
   "source": [
    "df_train_merged = reduce(lambda  left,right: pd.merge(left.copy(),right.copy(),on='PID',\n",
    "                                            how='left'), data_dict[\"train\"].values())\n",
    "\n",
    "assert df_train_merged.isnull().sum().sum() == 0\n",
    "assert df_train_merged.shape == (134,53)\n"
   ]
  },
  {
   "cell_type": "code",
   "execution_count": 12,
   "metadata": {},
   "outputs": [],
   "source": [
    "df_test_merged = reduce(lambda  left,right: pd.merge(left.copy(),right.copy(),on='PID',\n",
    "                                            how='left'), data_dict[\"test\"].values())\n",
    "\n",
    "assert df_test_merged.isnull().sum().sum() == 0\n",
    "assert df_test_merged.shape == (15,53)\n"
   ]
  },
  {
   "cell_type": "code",
   "execution_count": 13,
   "metadata": {},
   "outputs": [
    {
     "name": "stdout",
     "output_type": "stream",
     "text": [
      "<class 'pandas.core.frame.DataFrame'>\n",
      "Int64Index: 134 entries, 0 to 133\n",
      "Data columns (total 53 columns):\n",
      " #   Column                      Non-Null Count  Dtype         \n",
      "---  ------                      --------------  -----         \n",
      " 0   PID                         134 non-null    int64         \n",
      " 1   Project_Name                134 non-null    object        \n",
      " 2   Description                 134 non-null    object        \n",
      " 3   Category                    134 non-null    object        \n",
      " 4   Borough                     134 non-null    object        \n",
      " 5   Managing_Agency             134 non-null    object        \n",
      " 6   Client_Agency               134 non-null    object        \n",
      " 7   Phase_Start                 134 non-null    object        \n",
      " 8   Current_Project_Years       134 non-null    float64       \n",
      " 9   Current_Project_Year        134 non-null    int64         \n",
      " 10  Design_Start                134 non-null    datetime64[ns]\n",
      " 11  Budget_Start                134 non-null    float64       \n",
      " 12  Schedule_Start              134 non-null    datetime64[ns]\n",
      " 13  Final_Change_Date           134 non-null    datetime64[ns]\n",
      " 14  Final_Change_Years          134 non-null    float64       \n",
      " 15  Phase_End                   134 non-null    object        \n",
      " 16  Budget_End                  134 non-null    float64       \n",
      " 17  Schedule_End                134 non-null    datetime64[ns]\n",
      " 18  Number_Changes              134 non-null    int64         \n",
      " 19  Duration_Start              134 non-null    int64         \n",
      " 20  Duration_End                134 non-null    int64         \n",
      " 21  Schedule_Change             134 non-null    int64         \n",
      " 22  Budget_Change               134 non-null    float64       \n",
      " 23  Schedule_Change_Ratio       134 non-null    float64       \n",
      " 24  Budget_Change_Ratio         134 non-null    float64       \n",
      " 25  Budget_Abs_Per_Error        134 non-null    float64       \n",
      " 26  Budget_Rel_Per_Error        134 non-null    float64       \n",
      " 27  Duration_End_Ratio          134 non-null    float64       \n",
      " 28  Budget_End_Ratio            134 non-null    float64       \n",
      " 29  Duration_Ratio_Inv          134 non-null    float64       \n",
      " 30  Budget_Ratio_Inv            134 non-null    float64       \n",
      " 31  Category_Old                134 non-null    object        \n",
      " 32  Bridges                     134 non-null    int64         \n",
      " 33  Ferries                     134 non-null    int64         \n",
      " 34  Industrial_Development      134 non-null    int64         \n",
      " 35  Parks                       134 non-null    int64         \n",
      " 36  Sanitation                  134 non-null    int64         \n",
      " 37  Schools                     134 non-null    int64         \n",
      " 38  Sewers                      134 non-null    int64         \n",
      " 39  Streets_and_Roadways        134 non-null    int64         \n",
      " 40  Wastewater_Treatment        134 non-null    int64         \n",
      " 41  Water_Supply                134 non-null    int64         \n",
      " 42  Category_Code               134 non-null    int64         \n",
      " 43  umap_descr_2D_embed_1       134 non-null    float64       \n",
      " 44  umap_descr_2D_embed_2       134 non-null    float64       \n",
      " 45  umap_attributes_2D_embed_1  134 non-null    float64       \n",
      " 46  umap_attributes_2D_embed_2  134 non-null    float64       \n",
      " 47  attribute_clustering_label  134 non-null    object        \n",
      " 48  ae_descr_embed_1            134 non-null    float64       \n",
      " 49  ae_descr_embed_2            134 non-null    float64       \n",
      " 50  pca_descr_embed_1           134 non-null    float64       \n",
      " 51  pca_descr_embed_2           134 non-null    float64       \n",
      " 52  attribute_km3_label         134 non-null    int64         \n",
      "dtypes: datetime64[ns](4), float64(21), int64(18), object(10)\n",
      "memory usage: 56.5+ KB\n"
     ]
    }
   ],
   "source": [
    "df_train_merged.info()"
   ]
  },
  {
   "cell_type": "code",
   "execution_count": 14,
   "metadata": {},
   "outputs": [
    {
     "name": "stdout",
     "output_type": "stream",
     "text": [
      "<class 'pandas.core.frame.DataFrame'>\n",
      "Int64Index: 15 entries, 0 to 14\n",
      "Data columns (total 53 columns):\n",
      " #   Column                      Non-Null Count  Dtype         \n",
      "---  ------                      --------------  -----         \n",
      " 0   PID                         15 non-null     int64         \n",
      " 1   Project_Name                15 non-null     object        \n",
      " 2   Description                 15 non-null     object        \n",
      " 3   Category                    15 non-null     object        \n",
      " 4   Borough                     15 non-null     object        \n",
      " 5   Managing_Agency             15 non-null     object        \n",
      " 6   Client_Agency               15 non-null     object        \n",
      " 7   Phase_Start                 15 non-null     object        \n",
      " 8   Current_Project_Years       15 non-null     float64       \n",
      " 9   Current_Project_Year        15 non-null     int64         \n",
      " 10  Design_Start                15 non-null     datetime64[ns]\n",
      " 11  Budget_Start                15 non-null     float64       \n",
      " 12  Schedule_Start              15 non-null     datetime64[ns]\n",
      " 13  Final_Change_Date           15 non-null     datetime64[ns]\n",
      " 14  Final_Change_Years          15 non-null     float64       \n",
      " 15  Phase_End                   15 non-null     object        \n",
      " 16  Budget_End                  15 non-null     float64       \n",
      " 17  Schedule_End                15 non-null     datetime64[ns]\n",
      " 18  Number_Changes              15 non-null     int64         \n",
      " 19  Duration_Start              15 non-null     int64         \n",
      " 20  Duration_End                15 non-null     int64         \n",
      " 21  Schedule_Change             15 non-null     int64         \n",
      " 22  Budget_Change               15 non-null     float64       \n",
      " 23  Schedule_Change_Ratio       15 non-null     float64       \n",
      " 24  Budget_Change_Ratio         15 non-null     float64       \n",
      " 25  Budget_Abs_Per_Error        15 non-null     float64       \n",
      " 26  Budget_Rel_Per_Error        15 non-null     float64       \n",
      " 27  Duration_End_Ratio          15 non-null     float64       \n",
      " 28  Budget_End_Ratio            15 non-null     float64       \n",
      " 29  Duration_Ratio_Inv          15 non-null     float64       \n",
      " 30  Budget_Ratio_Inv            15 non-null     float64       \n",
      " 31  Category_Old                15 non-null     object        \n",
      " 32  Bridges                     15 non-null     int64         \n",
      " 33  Ferries                     15 non-null     int64         \n",
      " 34  Industrial_Development      15 non-null     int64         \n",
      " 35  Parks                       15 non-null     int64         \n",
      " 36  Sanitation                  15 non-null     int64         \n",
      " 37  Schools                     15 non-null     int64         \n",
      " 38  Sewers                      15 non-null     int64         \n",
      " 39  Streets_and_Roadways        15 non-null     int64         \n",
      " 40  Wastewater_Treatment        15 non-null     int64         \n",
      " 41  Water_Supply                15 non-null     int64         \n",
      " 42  Category_Code               15 non-null     int64         \n",
      " 43  umap_descr_2D_embed_1       15 non-null     float64       \n",
      " 44  umap_descr_2D_embed_2       15 non-null     float64       \n",
      " 45  umap_attributes_2D_embed_1  15 non-null     float64       \n",
      " 46  umap_attributes_2D_embed_2  15 non-null     float64       \n",
      " 47  attribute_clustering_label  15 non-null     object        \n",
      " 48  ae_descr_embed_1            15 non-null     float64       \n",
      " 49  ae_descr_embed_2            15 non-null     float64       \n",
      " 50  pca_descr_embed_1           15 non-null     float64       \n",
      " 51  pca_descr_embed_2           15 non-null     float64       \n",
      " 52  attribute_km3_label         15 non-null     int64         \n",
      "dtypes: datetime64[ns](4), float64(21), int64(18), object(10)\n",
      "memory usage: 6.3+ KB\n"
     ]
    }
   ],
   "source": [
    "df_test_merged.info()"
   ]
  },
  {
   "cell_type": "code",
   "execution_count": 15,
   "metadata": {},
   "outputs": [],
   "source": [
    "df_train_merged.to_csv(savepath_train)\n",
    "df_test_merged.to_csv(savepath_test)"
   ]
  },
  {
   "cell_type": "code",
   "execution_count": null,
   "metadata": {},
   "outputs": [],
   "source": []
  }
 ],
 "metadata": {
  "kernelspec": {
   "display_name": "Python 3",
   "language": "python",
   "name": "python3"
  },
  "language_info": {
   "codemirror_mode": {
    "name": "ipython",
    "version": 3
   },
   "file_extension": ".py",
   "mimetype": "text/x-python",
   "name": "python",
   "nbconvert_exporter": "python",
   "pygments_lexer": "ipython3",
   "version": "3.7.5"
  },
  "nteract": {
   "version": "0.21.0"
  }
 },
 "nbformat": 4,
 "nbformat_minor": 4
}
